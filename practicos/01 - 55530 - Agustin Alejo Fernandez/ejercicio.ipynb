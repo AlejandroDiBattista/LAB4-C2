{
 "cells": [
  {
   "cell_type": "markdown",
   "metadata": {},
   "source": [
    "# Trabajo práctico 1\n",
    "\n"
   ]
  },
  {
   "cell_type": "markdown",
   "metadata": {},
   "source": [
    "## Ejercicio 1 \n",
    "\n",
    "Escribe una función en Python que procese una lista de cadenas de texto y realice las siguientes acciones:\n",
    "\n",
    "1. Tomar una lista de frases y convertir cada frase en una lista de palabras.\n",
    "1. Luego, debe crear una nueva lista que contenga la cantidad de palabras en cada frase.\n",
    "1. Tambien debe crear un lista que contenga la cantidad de caracteres en cada frase.\n",
    "1. Finalmente, debe imprimir cada frase original junto con la cantidad de palabras que contiene.\n",
    "Ejemplo de uso:\n",
    "```python\n",
    "    frases = [\n",
    "        \"Python es un lenguaje de programación\",\n",
    "        \"Me gusta resolver problemas con código\",\n",
    "        \"Las listas y los bucles son muy útiles\"\n",
    "    ]\n",
    "\n",
    "    procesar_frases(frases)\n",
    "```\n",
    "\n",
    "ejemplo de salida:\n",
    "```bash\n",
    "    La frase: \"Python es un...\"\n",
    "    tiene 6 palabras y 38 caracteres\n",
    "```\n"
   ]
  },
  {
   "cell_type": "code",
   "execution_count": 1,
   "metadata": {},
   "outputs": [
    {
     "name": "stdout",
     "output_type": "stream",
     "text": [
      "La frase: Mi momento favorito del dia esa la mañana , tiene 8 palabras y 41 caracteres\n",
      "La frase: Me gusta tomar cafe acompañado de dos tortillas , tiene 8 palabras y 47 caracteres\n",
      "La frase: Suelo escuchar rock nacional , tiene 4 palabras y 28 caracteres\n",
      "La frase: Tambien musica electronica , tiene 3 palabras y 26 caracteres\n"
     ]
    }
   ],
   "source": [
    "# Implementar\n",
    "\n",
    "lista1 = [\n",
    "    \"Mi momento favorito del dia esa la mañana\",\n",
    "    \"Me gusta tomar cafe acompañado de dos tortillas\",\n",
    "    \"Suelo escuchar rock nacional\",\n",
    "    \"Tambien musica electronica\" \n",
    "]\n",
    "\n",
    "def procesamiento(list):\n",
    "        for frase in list:\n",
    "            caracteres = len(frase)\n",
    "            palabras = len(frase.split())\n",
    "            print(f\"La frase: {frase} , tiene {palabras} palabras y {caracteres} caracteres\")\n",
    "            \n",
    "procesamiento(lista1)"
   ]
  },
  {
   "cell_type": "markdown",
   "metadata": {},
   "source": []
  },
  {
   "cell_type": "markdown",
   "metadata": {},
   "source": [
    "## Ejercicio 2\n",
    "\n",
    "Escribe una función en Python que encuentre los valores de `a`, `b`, y `c` para que la función cuadrática `f(x) = aX^2 + bX + c` pase exactamente por los siguientes puntos:\n",
    "\n",
    "| x  | y  |\n",
    "|---:|---:|\n",
    "|  0 |  0 |\n",
    "|  1 |  8 |\n",
    "|  2 | 12 |\n",
    "|  3 | 12 |\n",
    "|  5 |  0 |\n",
    "\n",
    "### Requisitos:\n",
    "- La función debe explorar posibles valores de `a`, `b`, y `c` utilizando un método de prueba y error.\n",
    "- Debe devolver los valores que hagan que la diferencia entre la función `f(x)` y los valores medidos `y` sea exactamente cero para cada punto.\n",
    "\n",
    "> **Pista**: Los valores de `a`, `b`, y `c` son números pequeños."
   ]
  },
  {
   "cell_type": "code",
   "execution_count": 50,
   "metadata": {},
   "outputs": [
    {
     "name": "stdout",
     "output_type": "stream",
     "text": [
      "Los coeficientes son a: -2, b: 10, c: 0\n"
     ]
    }
   ],
   "source": [
    "# Implementar\n",
    "\n",
    "def fc():\n",
    "    for a in range(-10, 11):\n",
    "        for b in range(-10, 11):\n",
    "            for c in range(-10, 11):\n",
    "                p = [(0, 0), (1, 8), (2, 12), (3, 12), (5, 0)]\n",
    "                match = True\n",
    "                for x, y in p:\n",
    "                    funcion = a * x**2 + b * x + c\n",
    "                    if funcion != y:\n",
    "                        match = False\n",
    "                        break\n",
    "                if match == True:\n",
    "                    return f\"Los coeficientes son a: {a}, b: {b}, c: {c}\"\n",
    "    \n",
    "    return \"No se encontraron coeficientes válidos\"\n",
    "\n",
    "# Llamada a la función\n",
    "resultado = fc()\n",
    "print(resultado)\n",
    "         \n",
    "\n"
   ]
  },
  {
   "cell_type": "code",
   "execution_count": null,
   "metadata": {},
   "outputs": [],
   "source": []
  }
 ],
 "metadata": {
  "kernelspec": {
   "display_name": "Python 3",
   "language": "python",
   "name": "python3"
  },
  "language_info": {
   "codemirror_mode": {
    "name": "ipython",
    "version": 3
   },
   "file_extension": ".py",
   "mimetype": "text/x-python",
   "name": "python",
   "nbconvert_exporter": "python",
   "pygments_lexer": "ipython3",
   "version": "3.12.5"
  }
 },
 "nbformat": 4,
 "nbformat_minor": 2
}
