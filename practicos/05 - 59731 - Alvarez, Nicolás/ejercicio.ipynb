{
 "cells": [
  {
   "cell_type": "markdown",
   "metadata": {},
   "source": [
    "# Trabajo práctico 1\n",
    "\n"
   ]
  },
  {
   "cell_type": "markdown",
   "metadata": {},
   "source": [
    "## Ejercicio 1 \n",
    "\n",
    "Escribe una función en Python que procese una lista de cadenas de texto y realice las siguientes acciones:\n",
    "\n",
    "1. Tomar una lista de frases y convertir cada frase en una lista de palabras.\n",
    "1. Luego, debe crear una nueva lista que contenga la cantidad de palabras en cada frase.\n",
    "1. Tambien debe crear un lista que contenga la cantidad de caracteres en cada frase.\n",
    "1. Finalmente, debe imprimir cada frase original junto con la cantidad de palabras que contiene.\n",
    "Ejemplo de uso:\n",
    "```python\n",
    "    frases = [\n",
    "        \"Python es un lenguaje de programación\",\n",
    "        \"Me gusta resolver problemas con código\",\n",
    "        \"Las listas y los bucles son muy útiles\"\n",
    "    ]\n",
    "\n",
    "    procesar_frases(frases)\n",
    "```\n",
    "\n",
    "ejemplo de salida:\n",
    "```bash\n",
    "    La frase: \"Python es un...\"\n",
    "    tiene 6 palabras y 38 caracteres\n",
    "```\n"
   ]
  },
  {
   "cell_type": "code",
   "execution_count": 2,
   "metadata": {},
   "outputs": [
    {
     "name": "stdout",
     "output_type": "stream",
     "text": [
      "['HTML', 'es', 'un', 'lengueje', 'basado', 'en', 'etiquetas'] tiene 7 palabra/as y 39 caracteres\n",
      "['CSS', 'es', 'un', 'lenguaje', 'de', 'estilos'] tiene 6 palabra/as y 29 caracteres\n",
      "['GIT', 'es', 'un', 'sistema', 'de', 'control', 'de', 'versiones', 'distribuido'] tiene 9 palabra/as y 53 caracteres\n"
     ]
    }
   ],
   "source": [
    "informacion=[\n",
    "        \"HTML es un lengueje basado en etiquetas\",\n",
    "        \"CSS es un lenguaje de estilos\",\n",
    "        \"GIT es un sistema de control de versiones distribuido\"\n",
    "]\n",
    "def realizar_operaciones () :\n",
    "    cantidad_palabras_por_frase=0;\n",
    "    cantidad_caracteres_por_frase=0;\n",
    "    #Recorro la lista de informacion por medio del ciclo repetitivo for\n",
    "    for palabra in informacion:\n",
    "        #El metodo split lo utilizo para dividir\n",
    "        #la lista de informacion en listas independienteses y\n",
    "        #almaceno ese resultado en una variable\n",
    "        respuesta = palabra.split()\n",
    "        #print(respuesta)\n",
    "        #La funcion len() se usa para obtener la longitud ya sea en objetos,listas\n",
    "        cantidad_palabras_por_frase = len(respuesta);\n",
    "        cantidad_caracteres_por_frase = len(palabra)\n",
    "        print(f\"{respuesta} tiene\",cantidad_palabras_por_frase,\"palabra/as y\",cantidad_caracteres_por_frase,\"caracteres\"); \n",
    "realizar_operaciones()"
   ]
  },
  {
   "cell_type": "markdown",
   "metadata": {},
   "source": [
    "## Ejercicio 2\n",
    "\n",
    "Escribe una función en Python que encuentre los valores de `a`, `b`, y `c` para que la función cuadrática `f(x) = aX^2 + bX + c` pase exactamente por los siguientes puntos:\n",
    "\n",
    "| x  | y  |\n",
    "|---:|---:|\n",
    "|  0 |  0 |\n",
    "|  1 |  8 |\n",
    "|  2 | 12 |\n",
    "|  3 | 12 |\n",
    "|  5 |  0 |\n",
    "\n",
    "### Requisitos:\n",
    "- La función debe explorar posibles valores de `a`, `b`, y `c` utilizando un método de prueba y error.\n",
    "- Debe devolver los valores que hagan que la diferencia entre la función `f(x)` y los valores medidos `y` sea exactamente cero para cada punto.\n",
    "\n",
    "> **Pista**: Los valores de `a`, `b`, y `c` son números pequeños."
   ]
  },
  {
   "cell_type": "code",
   "execution_count": 1,
   "metadata": {},
   "outputs": [
    {
     "name": "stdout",
     "output_type": "stream",
     "text": [
      "a= -2\n",
      "b= 10\n",
      "c= 0\n"
     ]
    }
   ],
   "source": [
    "def buscar_valores():\n",
    "    # Establezco los puntos de paso en una lista de tuplas\n",
    "    punto = [(0, 0), (1, 8), (2, 12), (3, 12), (5, 0)]\n",
    "    # Por medio del metodo range genera una secuencia de numeros\n",
    "    valor_rango = range(-10,11);\n",
    "    #print(valor_rango)\n",
    "    #recorro cada uno de los valores del rango\n",
    "    for valor_a in valor_rango:\n",
    "        #print(valor_a)\n",
    "        for valor_b in valor_rango:\n",
    "            for valor_c in valor_rango:\n",
    "                # Establezco la bandera en un valor inicial y puede ser modificada\n",
    "                bandera = 1  \n",
    "                for coordenada_x, coordenada_y in punto:\n",
    "                    # Recorro cada una de las coordenadas de la lista de tuplas y realizo la validacion\n",
    "                    # de la funcion cuadratica\n",
    "                    if (valor_a * coordenada_x**2 + valor_b * coordenada_x + valor_c) != coordenada_y:\n",
    "                        bandera = 0\n",
    "                        break\n",
    "                # Si la bandera se encuentra en 1 imprimo los valores\n",
    "                if bandera == 1:\n",
    "                    return print(f\"a= {valor_a}\\nb= {valor_b}\\nc= {valor_c}\");\n",
    "                    break;\n",
    "buscar_valores()"
   ]
  }
 ],
 "metadata": {
  "kernelspec": {
   "display_name": "Python 3",
   "language": "python",
   "name": "python3"
  },
  "language_info": {
   "codemirror_mode": {
    "name": "ipython",
    "version": 3
   },
   "file_extension": ".py",
   "mimetype": "text/x-python",
   "name": "python",
   "nbconvert_exporter": "python",
   "pygments_lexer": "ipython3",
   "version": "3.12.5"
  }
 },
 "nbformat": 4,
 "nbformat_minor": 2
}
