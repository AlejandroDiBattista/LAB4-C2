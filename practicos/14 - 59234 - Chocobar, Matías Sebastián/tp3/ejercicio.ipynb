{
 "cells": [
  {
   "cell_type": "markdown",
   "metadata": {},
   "source": [
    "#TP3"
   ]
  },
  {
   "cell_type": "markdown",
   "metadata": {},
   "source": [
    "## Ejercicio 1: Cargar Datos de ventas.\n",
    "\n",
    "El archivo datos.dat contiene el registro de las ventas realizadas.\n",
    "\n",
    "Tiene un formato de ancho fijo:\n",
    "- fecha:    10 lugares\n",
    "- producto: 30 lugares\n",
    "- precio:   10 lugares\n",
    "- cantidad:  5 lugares\n",
    "\n",
    "hacer una funcion que carge los en una lista de diccionarios. \n",
    "\n",
    "nota: con \n",
    "```python\n",
    "lineas = open(\"datos.dat\", \"r\").readlines() \n",
    "```\n",
    "puede obtener la lista de string de todos los datos "
   ]
  },
  {
   "cell_type": "code",
   "execution_count": 31,
   "metadata": {},
   "outputs": [
    {
     "name": "stdout",
     "output_type": "stream",
     "text": [
      "1) - Cargar Datos de ventas.\n",
      "\n",
      "----------------------------------\n",
      "\n",
      "{'fecha': '2024-08-27', 'producto': 'Mirinda', 'precio': 1510.0, 'cantidad': 14}\n",
      "{'fecha': '2024-08-27', 'producto': 'Mirinda', 'precio': 1560.0, 'cantidad': 12}\n",
      "{'fecha': '2024-08-28', 'producto': 'Torasso', 'precio': 940.0, 'cantidad': 8}\n",
      "{'fecha': '2024-08-29', 'producto': 'Pepsi Cola', 'precio': 1210.0, 'cantidad': 10}\n",
      "{'fecha': '2024-08-30', 'producto': 'Mirinda', 'precio': 1520.0, 'cantidad': 1}\n",
      "{'fecha': '2024-09-01', 'producto': 'Mirinda', 'precio': 1550.0, 'cantidad': 15}\n",
      "{'fecha': '2024-09-01', 'producto': 'Sprite', 'precio': 810.0, 'cantidad': 4}\n",
      "{'fecha': '2024-09-02', 'producto': 'Coca Cola', 'precio': 1100.0, 'cantidad': 4}\n",
      "{'fecha': '2024-09-02', 'producto': 'Pepsi Cola', 'precio': 1220.0, 'cantidad': 13}\n",
      "{'fecha': '2024-09-02', 'producto': 'Torasso', 'precio': 910.0, 'cantidad': 5}\n",
      "{'fecha': '2024-09-02', 'producto': 'Torasso', 'precio': 920.0, 'cantidad': 3}\n",
      "{'fecha': '2024-09-03', 'producto': 'Coca Cola', 'precio': 1020.0, 'cantidad': 8}\n",
      "{'fecha': '2024-09-03', 'producto': 'Mirinda', 'precio': 1570.0, 'cantidad': 7}\n",
      "{'fecha': '2024-09-03', 'producto': 'Mirinda', 'precio': 1590.0, 'cantidad': 2}\n",
      "{'fecha': '2024-09-04', 'producto': 'Pepsi Cola', 'precio': 1220.0, 'cantidad': 13}\n",
      "{'fecha': '2024-09-05', 'producto': 'Mirinda', 'precio': 1500.0, 'cantidad': 3}\n",
      "{'fecha': '2024-09-05', 'producto': 'Pepsi Cola', 'precio': 1300.0, 'cantidad': 5}\n",
      "{'fecha': '2024-09-06', 'producto': 'Coca Cola', 'precio': 1080.0, 'cantidad': 1}\n",
      "{'fecha': '2024-09-06', 'producto': 'Sprite', 'precio': 860.0, 'cantidad': 12}\n",
      "{'fecha': '2024-09-06', 'producto': 'Torasso', 'precio': 930.0, 'cantidad': 3}\n",
      "{'fecha': '2024-09-07', 'producto': 'Coca Cola', 'precio': 1080.0, 'cantidad': 14}\n",
      "{'fecha': '2024-09-07', 'producto': 'Sprite', 'precio': 870.0, 'cantidad': 13}\n",
      "{'fecha': '2024-09-08', 'producto': 'Coca Cola', 'precio': 1040.0, 'cantidad': 10}\n",
      "{'fecha': '2024-09-08', 'producto': 'Mirinda', 'precio': 1580.0, 'cantidad': 2}\n",
      "{'fecha': '2024-09-08', 'producto': 'Pepsi Cola', 'precio': 1240.0, 'cantidad': 9}\n",
      "{'fecha': '2024-09-09', 'producto': 'Mirinda', 'precio': 1500.0, 'cantidad': 3}\n",
      "{'fecha': '2024-09-09', 'producto': 'Sprite', 'precio': 850.0, 'cantidad': 9}\n",
      "{'fecha': '2024-09-10', 'producto': 'Mirinda', 'precio': 1590.0, 'cantidad': 8}\n",
      "{'fecha': '2024-09-10', 'producto': 'Pepsi Cola', 'precio': 1250.0, 'cantidad': 12}\n",
      "{'fecha': '2024-09-11', 'producto': 'Sprite', 'precio': 810.0, 'cantidad': 6}\n",
      "{'fecha': '2024-09-11', 'producto': 'Sprite', 'precio': 820.0, 'cantidad': 14}\n",
      "{'fecha': '2024-09-12', 'producto': 'Coca Cola', 'precio': 1080.0, 'cantidad': 4}\n",
      "{'fecha': '2024-09-13', 'producto': 'Mirinda', 'precio': 1580.0, 'cantidad': 5}\n",
      "{'fecha': '2024-09-13', 'producto': 'Pepsi Cola', 'precio': 1250.0, 'cantidad': 13}\n",
      "{'fecha': '2024-09-14', 'producto': 'Coca Cola', 'precio': 1080.0, 'cantidad': 15}\n",
      "{'fecha': '2024-09-14', 'producto': 'Pepsi Cola', 'precio': 1270.0, 'cantidad': 14}\n",
      "{'fecha': '2024-09-15', 'producto': 'Coca Cola', 'precio': 1100.0, 'cantidad': 1}\n",
      "{'fecha': '2024-09-15', 'producto': 'Mirinda', 'precio': 1500.0, 'cantidad': 13}\n",
      "{'fecha': '2024-09-15', 'producto': 'Sprite', 'precio': 870.0, 'cantidad': 14}\n",
      "{'fecha': '2024-09-15', 'producto': 'Torasso', 'precio': 900.0, 'cantidad': 13}\n"
     ]
    }
   ],
   "source": [
    "def cargar_datos():\n",
    "    #lee el archivo datos.dat con r (read) modo solo lectura y retorna una lista con los datos en cadena (string)\n",
    "    lineas = open(\"datos.dat\", \"r\").readlines()\n",
    "    # Lista para almacenar los datos \n",
    "    datos = []\n",
    "    #recorre las lineas del archivo\n",
    "    for linea in lineas:\n",
    "        #utilizando los datos del enunciado se etraen los datos de la linea\n",
    "        # elimino los espacios en blanco al inicio y al final de la linea con la funcion strip()\n",
    "         fecha = linea[0:10].strip() # extrae los primero 10 caracteres de la linea en este caso la fecha\n",
    "         producto = linea[10:40].strip()# estrae los lugares 10 al 40 de la linea en este caso el producto\n",
    "         precio = float(linea[40:50].strip()) # extrae los lugares 40 al 50 de la linea en este caso al precio y lo convierte a flotante por ser precio\n",
    "         cantidad = int(linea[50:55].strip()) # estrae los lugares 50 al 55 de la linea en este caso la cantidad y la convierte en entero por ser cantidad\n",
    "         #crea un diccionario con los datos extraidos como el de la clase 02\n",
    "         registro = {\n",
    "                     \"fecha\":fecha,\n",
    "                     \"producto\":producto,\n",
    "                     \"precio\":precio,\n",
    "                     \"cantidad\":cantidad\n",
    "                     }   \n",
    "  # agrego al diccionario a la lista datos\n",
    "         datos.append(registro)\n",
    "          #muestro el diccionario para mostrar que se octuvo los datos del archivo datos.dat\n",
    "         print(registro)\n",
    "    return datos\n",
    "\n",
    "#Prueba de la funcion\n",
    "print(\"1) - Cargar Datos de ventas.\\n\")\n",
    "print(\"----------------------------------\\n\")\n",
    "datos = cargar_datos()"
   ]
  },
  {
   "cell_type": "markdown",
   "metadata": {},
   "source": [
    "## Ejercicio 2: Calcular el total de ventas.\n",
    "\n",
    "Hacer una funcion que sume los importes vendidos (precio * cantidad) y las cantidades"
   ]
  },
  {
   "cell_type": "code",
   "execution_count": 30,
   "metadata": {},
   "outputs": [
    {
     "name": "stdout",
     "output_type": "stream",
     "text": [
      "2) - Calcular el total de ventas.\n",
      "\n",
      "----------------------------------\n",
      "\n",
      "Las ventas fueron de $392730.00 en 335 unidades\n"
     ]
    }
   ],
   "source": [
    "def calcular_totales(datos):\n",
    "    #lee el archivo datos.dat con r (read) modo solo lectura y retorna una lista con los datos en cadena (string)\n",
    "    lineas = open(\"datos.dat\", \"r\").readlines()\n",
    "    # variable para alojar el importe total = (precio * cantidad)\n",
    "    importe = 0\n",
    "    # acumulador de la cantidad de productos\n",
    "    cantidad = 0\n",
    "    for linea in lineas:\n",
    "        #realizo el calculo directamente en el acumulador de importe (precio * cantidad)\n",
    "        importe += (int(linea[40:50].strip()) * int(linea[50:55].strip()))\n",
    "        cantidad += int(linea[50:55].strip())\n",
    "    #retorno el valor de los acumuladores   \n",
    "    return importe, cantidad\n",
    "#inicializo las variables con los valores que retorna la funcion\n",
    "importe, cantidad = calcular_totales(datos)\n",
    "\n",
    "\n",
    "print(\"2) - Calcular el total de ventas.\\n\")\n",
    "print(\"----------------------------------\\n\")\n",
    "print(f\"Las ventas fueron de ${importe:.2f} en {cantidad} unidades\")\n",
    "\n"
   ]
  },
  {
   "cell_type": "markdown",
   "metadata": {},
   "source": [
    "## Ejercicio 3: Listar las unidades vendidas.\n",
    "\n",
    "Listar cuantas unidades se vendieron en total para cada producto"
   ]
  },
  {
   "cell_type": "code",
   "execution_count": 48,
   "metadata": {},
   "outputs": [
    {
     "name": "stdout",
     "output_type": "stream",
     "text": [
      "3) - Listar las unidades vendidas.\n",
      "\n",
      "     -----------------------------\n",
      "\n",
      "Producto 1 : Mirinda, Unidades vendidas: 85\n",
      "Producto 2 : Torasso, Unidades vendidas: 32\n",
      "Producto 3 : Pepsi Cola, Unidades vendidas: 89\n",
      "Producto 4 : Sprite, Unidades vendidas: 72\n",
      "Producto 5 : Coca Cola, Unidades vendidas: 57\n"
     ]
    }
   ],
   "source": [
    "def unidades_vendidas(datos):\n",
    "    #creo un diccionario para almacenar los productos y la cantidad de unidades vendidas\n",
    "    unidades_vendidas = {}\n",
    "    for linea in datos:\n",
    "        #extraigo el producto y la cantidad de la linea\n",
    "        producto = linea[10:40].strip()\n",
    "        cantidad = int(linea[50:55].strip())\n",
    "        #si el producto ya esta en el diccionario se suma la cantidad\n",
    "        if producto in unidades_vendidas:\n",
    "            #suma la cantidad de unidades vendidas\n",
    "            unidades_vendidas[producto] += cantidad\n",
    "        else:\n",
    "            #si el producto no esta en el diccionario se agregan el producto y la cantidad\n",
    "            unidades_vendidas[producto] = cantidad\n",
    "    return unidades_vendidas\n",
    "\n",
    "def listar_ventas(datos):\n",
    "    contador = 0 #contador para llevar la cuenta de los productos\n",
    "    #recorro el diccionario y muestro el producto y la cantidad de unidades vendidas\n",
    "    for producto, cantidad in datos.items():\n",
    "        contador +=1\n",
    "        print(f\"Producto {contador} : {producto}, Unidades vendidas: {cantidad}\")\n",
    "#realizo la lectura del archivo para obtener los datos y almacenarlos en la variable datos\n",
    "#utilizo el with para abrir el archivo y cerrarlo automaticamente al salir del bloque with\n",
    "with open(\"datos.dat\", \"r\") as archivo:\n",
    "    datos = archivo.readlines() #leo las lineas del archivo\n",
    "    \n",
    "#calculo las unidades vendidas\n",
    "ventas = unidades_vendidas(datos)\n",
    "\n",
    "print(\"3) - Listar las unidades vendidas.\\n\")\n",
    "print(\"     -----------------------------\\n\")\n",
    "listar_ventas(ventas)\n"
   ]
  },
  {
   "cell_type": "markdown",
   "metadata": {},
   "source": [
    "##  Ejercicio 4: Listar el precio promedio por producto.\n",
    "\n",
    "Hacer un listado del precio promedio por productos."
   ]
  },
  {
   "cell_type": "code",
   "execution_count": null,
   "metadata": {},
   "outputs": [],
   "source": [
    "def precio_promedio(datos):\n",
    "    \n",
    "    pass # Implementar\n",
    "\n",
    "def listar_precios(datos):\n",
    "    pass # Implement\n",
    "\n",
    "precios = precio_promedio(datos)\n",
    "listar_precios(precios)\n",
    "\n",
    "print(\"4) - Listar el precio promedio por producto.\\n\")\n",
    "print(\"--------------------------------------------\\n\")"
   ]
  },
  {
   "cell_type": "markdown",
   "metadata": {},
   "source": [
    "### Ejercicio 5: Ranking de productos\n",
    "\n",
    "Realizar un listado de los 3 productos mas vendidos ordenados la cantidad de unidades vendidas (ordenadas de mayor a menor)\n"
   ]
  },
  {
   "cell_type": "code",
   "execution_count": null,
   "metadata": {},
   "outputs": [],
   "source": [
    "def ranking_productos(datos, top=3):\n",
    "    pass # Implementar\n",
    "\n",
    "def listar_ranking(ranking):\n",
    "    pass # Implementar\n",
    "\n",
    "ranking = ranking_productos(datos)\n",
    "listar_ranking(ranking)\n",
    "\n",
    "print(\"5) - Ranking de productos.\\n\")\n",
    "print(\"--------------------------\\n\")"
   ]
  },
  {
   "cell_type": "markdown",
   "metadata": {},
   "source": [
    "### Ejercicio 6: Listar las ventas por mes\n",
    "\n",
    "Realizar un listado del total de unidades vendidas por productos separada por mes."
   ]
  },
  {
   "cell_type": "code",
   "execution_count": null,
   "metadata": {},
   "outputs": [],
   "source": [
    "def ventas_por_mes(datos):\n",
    "    pass # Implementar\n",
    "\n",
    "def listar_ventas_mensuales(ventas):\n",
    "    pass # Implementar\n",
    "\n",
    "ventas = ventas_por_mes(datos)\n",
    "listar_ventas_mensuales(ventas)\n",
    "\n",
    "print(\"6) - Listar las ventas por mes.\\n\")\n",
    "print(\"-------------------------------\\n\")"
   ]
  },
  {
   "cell_type": "markdown",
   "metadata": {},
   "source": [
    "### Ejercicio 7: Informe general\n",
    "\n",
    "Mostrar un listado de productos ordenados alfabeticamente que contengan el precio promedio, la cantidad de unidades vendidas y el importe total vendido para cada producto"
   ]
  },
  {
   "cell_type": "code",
   "execution_count": null,
   "metadata": {},
   "outputs": [],
   "source": [
    "def resumen_ventas(datos):\n",
    "    pass # Implementar\n",
    "\n",
    "def informe_ventas(datos):\n",
    "    pass # Implementar\n",
    "\n",
    "resumen = resumen_ventas(datos)\n",
    "informe_ventas(resumen)\n",
    "\n",
    "print(\"7) - Informe general.\\n\")\n",
    "print(\"---------------------\\n\")"
   ]
  }
 ],
 "metadata": {
  "kernelspec": {
   "display_name": "Python 3",
   "language": "python",
   "name": "python3"
  },
  "language_info": {
   "codemirror_mode": {
    "name": "ipython",
    "version": 3
   },
   "file_extension": ".py",
   "mimetype": "text/x-python",
   "name": "python",
   "nbconvert_exporter": "python",
   "pygments_lexer": "ipython3",
   "version": "3.12.5"
  }
 },
 "nbformat": 4,
 "nbformat_minor": 2
}
