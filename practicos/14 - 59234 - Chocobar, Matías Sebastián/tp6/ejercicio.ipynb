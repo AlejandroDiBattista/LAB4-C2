{
 "cells": [
  {
   "cell_type": "markdown",
   "metadata": {},
   "source": [
    "# TP6\n",
    "\n",
    "### `Resolver usando Pandas`\n",
    "\n",
    "Resolver los ejercicios del TP3 utilizando la librería Pandas."
   ]
  },
  {
   "cell_type": "markdown",
   "metadata": {},
   "source": [
    "### Ejercicio 1: Cargar Datos de ventas.\n",
    "\n",
    "El archivo datos.dat contiene el registro de las ventas realizadas.\n",
    "\n",
    "Tiene un formato de ancho fijo:\n",
    "- `fecha`:    10 lugares\n",
    "- `producto`: 30 lugares\n",
    "- `precio`:   10 lugares\n",
    "- `cantidad`:  5 lugares\n",
    "\n",
    "Hacer una funcion que cargue los datos en un DataFrame de Pandas."
   ]
  },
  {
   "cell_type": "code",
   "execution_count": null,
   "metadata": {},
   "outputs": [],
   "source": [
    "import pandas as pd\n",
    "\n",
    "def cargar_datos():\n",
    "    \n",
    "    lineas = open(\"datos.dat\", \"r\").readlines()\n",
    " \n",
    "    datos = []\n",
    "\n",
    "    for linea in lineas:\n",
    "       \n",
    "         fecha = linea[0:10].strip()\n",
    "         producto = linea[10:40].strip()\n",
    "         precio = float(linea[40:50].strip()) \n",
    "         cantidad = int(linea[50:55].strip())\n",
    "       \n",
    "         registro = {\n",
    "                     \"fecha\":fecha,\n",
    "                     \"producto\":producto,\n",
    "                     \"precio\":precio,\n",
    "                     \"cantidad\":cantidad\n",
    "                     }   \n",
    "\n",
    "         datos.append(registro)\n",
    "\n",
    "    data_frame = pd.DataFrame(datos)\n",
    "    return data_frame\n",
    "\n",
    "datos = cargar_datos()\n",
    "\n",
    "datos "
   ]
  },
  {
   "cell_type": "markdown",
   "metadata": {},
   "source": [
    "### Ejercicio 2: Calcular el total de ventas.\n",
    "Hacer una función que sume los importes vendidos (precio * cantidad) y las cantidades.\n"
   ]
  },
  {
   "cell_type": "code",
   "execution_count": null,
   "metadata": {},
   "outputs": [],
   "source": [
    "import pandas as pd\n",
    "\n",
    "def calcular_totales(datos):\n",
    "    \n",
    "    df = pd.read_fwf(datos, colspecs =[(0, 10), (10, 40), (40, 50), (50, 55)],  names=['fecha', 'producto', 'precio', 'cantidad'])\n",
    "\n",
    "    df['importe'] = pd.to_numeric(df['precio'], errors = 'coerce') * pd.to_numeric(df['cantidad'], errors = 'coerce')\n",
    "\n",
    "    importe_total = df['importe'].sum()\n",
    "    cantidad_total = df['cantidad'].sum()\n",
    "    \n",
    "    return importe_total, cantidad_total\n",
    "\n",
    "datos= 'datos.dat'\n",
    "importe, cantidad = calcular_totales(datos)\n",
    "\n",
    "print(f\"Las ventas fueron de ${importe:.2f} en {cantidad} unidades\")"
   ]
  },
  {
   "cell_type": "markdown",
   "metadata": {},
   "source": [
    "### Ejercicio 3: Listar las unidades vendidas.\n",
    "Listar cuántas unidades se vendieron en total para cada producto\n"
   ]
  },
  {
   "cell_type": "code",
   "execution_count": null,
   "metadata": {},
   "outputs": [],
   "source": [
    "import pandas as pd\n",
    "\n",
    "def unidades_vendidas(datos):\n",
    "    df = pd.read_fwf(datos, colspecs =[(0, 10), (10, 40), (40, 50), (50, 55)],  names=['fecha', 'producto', 'precio', 'cantidad'])\n",
    "    df['cantidad'] = pd.to_numeric(df['cantidad'], errors = 'coerce')\n",
    "    \n",
    "    return df[['producto', 'cantidad']].groupby('producto').sum()\n",
    "unidades_vendidas(datos)"
   ]
  },
  {
   "cell_type": "markdown",
   "metadata": {},
   "source": [
    "###  Ejercicio 4: Listar el precio promedio por producto.\n",
    "Hacer un listado del precio promedio por producto.\n"
   ]
  },
  {
   "cell_type": "code",
   "execution_count": null,
   "metadata": {},
   "outputs": [],
   "source": [
    "import pandas as pd\n",
    "\n",
    "def precio_promedio(datos):\n",
    "    \n",
    "    df = pd.read_fwf(datos, colspecs =[(0, 10), (10, 40), (40, 50), (50, 55)],  names=['fecha', 'producto', 'precio', 'cantidad'])\n",
    "    df['precio'] = pd.to_numeric(df['precio'], errors = 'coerce')\n",
    "    \n",
    "    return df.groupby('producto')['precio'].mean().reset_index()\n",
    "    \n",
    "precio_promedio(datos)"
   ]
  },
  {
   "cell_type": "markdown",
   "metadata": {},
   "source": [
    "### Ejercicio 5: Ranking de productos\n",
    "Realizar un listado de los 3 productos más vendidos ordenados por la cantidad de unidades vendidas (ordenadas de mayor a menor)\n"
   ]
  },
  {
   "cell_type": "code",
   "execution_count": null,
   "metadata": {},
   "outputs": [],
   "source": [
    "import pandas as pd\n",
    "\n",
    "def ranking_productos(datos, top=3):\n",
    "   \n",
    "    df = pd.read_fwf(datos, colspecs =[(0, 10), (10, 40), (40, 50), (50, 55)],  names=['fecha', 'producto', 'precio', 'cantidad'])\n",
    "    df['cantidad'] = pd.to_numeric(df['cantidad'], errors = 'coerce')\n",
    "    \n",
    "    ranking = df.groupby('producto')['cantidad'].sum().reset_index()\n",
    "    \n",
    "    ranking = ranking.sort_values('cantidad', ascending=False).head(top)\n",
    "    \n",
    "    return ranking\n",
    "    \n",
    "ranking_productos(datos)"
   ]
  },
  {
   "cell_type": "markdown",
   "metadata": {},
   "source": [
    "### Ejercicio 6: Listar las ventas por mes\n",
    "Realizar un listado del total de unidades vendidas por producto separado por mes.\n"
   ]
  },
  {
   "cell_type": "code",
   "execution_count": null,
   "metadata": {},
   "outputs": [],
   "source": [
    "import pandas as pd\n",
    "\n",
    "def ventas_por_mes(datos):\n",
    "        \n",
    "    df = pd.read_fwf(datos, colspecs =[(0, 10), (10, 40), (40, 50), (50, 55)],  names=['fecha', 'producto', 'precio', 'cantidad'])\n",
    "    df['fecha'] = pd.to_datetime(df['fecha'], format='%Y-%m-%d', errors ='coerce')\n",
    "    df['cantidad']  = pd.to_numeric(df['cantidad'], errors = 'coerce')\n",
    "        \n",
    "    df['mes'] = df['fecha'].dt.to_period('M')\n",
    "        \n",
    "    return df.groupby(['producto', 'mes'])['cantidad'].sum().reset_index()\n",
    "\n",
    "ventas_por_mes(datos)"
   ]
  },
  {
   "cell_type": "markdown",
   "metadata": {},
   "source": [
    "### Ejercicio 7: Informe general\n",
    "\n",
    "Mostrar un listado de productos ordenados alfabeticamente que contengan el precio promedio, la cantidad de unidades vendidas y el importe total vendido para cada producto"
   ]
  },
  {
   "cell_type": "code",
   "execution_count": null,
   "metadata": {},
   "outputs": [],
   "source": [
    "import pandas as pd\n",
    "\n",
    "def resumen_ventas(datos):\n",
    "    \n",
    "    df = pd.read_fwf(datos, colspecs =[(0, 10), (10, 40), (40, 50), (50, 55)],  names=['fecha', 'producto', 'precio', 'cantidad'])\n",
    "\n",
    "    df['precio'] = pd.to_numeric(df['precio'], errors = 'coerce')\n",
    "    df['cantidad'] = pd.to_numeric(df['cantidad'], errors = 'coerce')\n",
    "    \n",
    "    df['importe'] = df['precio'] * df['cantidad']\n",
    "    \n",
    "    resumen = df.groupby('producto').agg({'precio': 'mean','cantidad':'sum', 'importe':'sum'}).reset_index()\n",
    "    \n",
    "    resumen = resumen.sort_values(by='producto')\n",
    "    \n",
    "    return resumen\n",
    "\n",
    "resumen_ventas(datos)"
   ]
  },
  {
   "cell_type": "markdown",
   "metadata": {},
   "source": [
    "## `Resolver usando NumPy`\n",
    "## Resolver el ejercicio 2 del tp1 usando NumPy"
   ]
  },
  {
   "cell_type": "markdown",
   "metadata": {},
   "source": [
    "### Ejercicio 8\n",
    "\n",
    "Escribe una función en Python que encuentre los valores de `a`, `b`, y `c` para que la función cuadrática `f(x) = a x^2 + b x + c` pase exactamente por los siguientes puntos:\n",
    "\n",
    "| x  | y  |\n",
    "|---:|---:|\n",
    "|  0 |  0 |\n",
    "|  1 |  8 |\n",
    "|  2 | 12 |\n",
    "|  3 | 12 |\n",
    "|  5 |  0 |\n",
    "\n",
    "### Requisitos:\n",
    "- La función debe explorar posibles valores de `a`, `b`, y `c` utilizando un método de prueba y error.\n",
    "- Debe devolver los valores que hagan que la diferencia entre la función `f(x)` y los valores medidos `y` sea exactamente cero para cada punto.\n",
    "\n",
    "> **Pista**: Los valores de `a`, `b`, y `c` son números pequeños.\n",
    "\n",
    "La idea es implementar el mismo algoritmo que se uso en el TP1 pero usando NumPy en lugar de Python puro."
   ]
  },
  {
   "cell_type": "code",
   "execution_count": null,
   "metadata": {},
   "outputs": [
    {
     "data": {
      "text/plain": [
       "(-2, 10, 0)"
      ]
     },
     "execution_count": 4,
     "metadata": {},
     "output_type": "execute_result"
    }
   ],
   "source": [
    "import numpy as np\n",
    "def f(x, coeficientes):\n",
    "    a,b,c = coeficientes\n",
    "    return a*x**2 + b*x + c\n",
    "\n",
    "def error(y, y_pred):\n",
    "    return y - y_pred\n",
    "\n",
    "X = np.array([0,1,2,3,5])\n",
    "Y = np.array([0,8,12,12,0])\n",
    "\n",
    "def buscar_coeficientes():\n",
    "    \n",
    "    A = np.vstack([X**2, X, np.ones(len(X))]).T\n",
    "    B = Y\n",
    "    \n",
    "    coeficientes, _, _, _ = np.linalg.lstsq(A, B, rcond=None)\n",
    "    \n",
    "    coeficientes = [int(round(c)) for c in coeficientes]\n",
    "    \n",
    "    return coeficientes\n",
    "    \n",
    "coeficientes = buscar_coeficientes()\n",
    "coeficientes"
   ]
  },
  {
   "cell_type": "markdown",
   "metadata": {},
   "source": [
    "### Ejercicio 9: Resolver el ejercicio 3 del TP1 usando NumPy\n",
    "Buscar los coeficientes de la función que minimice la suma de los cuadrados de las diferencias entre los valores medidos y los valores de la función.\n",
    "\n",
    "1. Crear un array con los coeficientes elegidos al azar (usar `randint(-10,10,3)`).\n",
    "2. Calcular el valor de la función y el error correspondiente.\n",
    "3. Mientras que el error sea mayor a 1:\n",
    "    1. Definir nuevos coeficientes agregándoles un pequeño valor al azar a los coeficientes actuales (aprendizaje = 0.001).\n",
    "    2. Si el error para los nuevos coeficientes es menor que el anterior, reemplazar los coeficientes actuales por los nuevos.\n"
   ]
  },
  {
   "cell_type": "code",
   "execution_count": null,
   "metadata": {},
   "outputs": [
    {
     "name": "stdout",
     "output_type": "stream",
     "text": [
      "Los coeficientes son [-1.781  8.961  0.615] y el error es 0.9958049999998968\n"
     ]
    },
    {
     "data": {
      "text/plain": [
       "array([-1.781,  8.961,  0.615])"
      ]
     },
     "execution_count": 121,
     "metadata": {},
     "output_type": "execute_result"
    }
   ],
   "source": [
    "import numpy as np\n",
    "from numpy.random import randint\n",
    "\n",
    "def f(x, coeficientes):\n",
    "    a,b,c = coeficientes\n",
    "    return a*x**2 + b*x + c\n",
    "\n",
    "def error(y, y_pred):\n",
    "    return np.sum((y - y_pred)**2)\n",
    "\n",
    "X = np.array([0, 1, 2, 3, 5])\n",
    "Y = np.array([0, 8,12,11, 1]) # Observar que no son los mismos valores que en el ejemplo anterior\n",
    "\n",
    "def buscar_coeficientes():\n",
    "    \n",
    "    coeficientes = randint(-10, 10, 3)\n",
    "    aprendizaje = 0.001\n",
    "    \n",
    "    y_pred = f(X, coeficientes)\n",
    "    err = error(Y, y_pred)\n",
    "    \n",
    "    while err > 1:\n",
    "        nuevo_coeficientes = coeficientes + aprendizaje * randint(-10, 10, 3)\n",
    "        \n",
    "        y_pred_nuevo = f(X, nuevo_coeficientes)\n",
    "        err_nuevo = error(Y, y_pred_nuevo)\n",
    "        \n",
    "        if err_nuevo < err:\n",
    "            coeficientes = nuevo_coeficientes\n",
    "            err = err_nuevo\n",
    "    return coeficientes\n",
    "\n",
    "coeficientes = buscar_coeficientes()\n",
    "coeficientes"
   ]
  }
 ],
 "metadata": {
  "kernelspec": {
   "display_name": "Python 3",
   "language": "python",
   "name": "python3"
  },
  "language_info": {
   "codemirror_mode": {
    "name": "ipython",
    "version": 3
   },
   "file_extension": ".py",
   "mimetype": "text/x-python",
   "name": "python",
   "nbconvert_exporter": "python",
   "pygments_lexer": "ipython3",
   "version": "3.12.5"
  }
 },
 "nbformat": 4,
 "nbformat_minor": 2
}
