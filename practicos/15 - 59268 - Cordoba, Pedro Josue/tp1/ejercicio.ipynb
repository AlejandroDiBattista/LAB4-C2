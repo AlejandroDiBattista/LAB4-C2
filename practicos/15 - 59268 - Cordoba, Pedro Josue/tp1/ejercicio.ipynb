{
 "cells": [
  {
   "cell_type": "markdown",
   "metadata": {},
   "source": [
    "# Trabajo práctico 1\n",
    "\n"
   ]
  },
  {
   "cell_type": "markdown",
   "metadata": {},
   "source": [
    "## Ejercicio 1 \n",
    "\n",
    "Escribe una función en Python que procese una lista de cadenas de texto y realice las siguientes acciones:\n",
    "\n",
    "1. Tomar una lista de frases y convertir cada frase en una lista de palabras.\n",
    "1. Luego, debe crear una nueva lista que contenga la cantidad de palabras en cada frase.\n",
    "1. Tambien debe crear un lista que contenga la cantidad de caracteres en cada frase.\n",
    "1. Finalmente, debe imprimir cada frase original junto con la cantidad de palabras que contiene.\n",
    "Ejemplo de uso:\n",
    "```python\n",
    "    frases = [\n",
    "        \"Python es un lenguaje de programación\",\n",
    "        \"Me gusta resolver problemas con código\",\n",
    "        \"Las listas y los bucles son muy útiles\"\n",
    "    ]\n",
    "\n",
    "    procesar_frases(frases)\n",
    "```\n",
    "\n",
    "ejemplo de salida:\n",
    "```bash\n",
    "    La frase: \"Python es un...\"\n",
    "    tiene 6 palabras y 38 caracteres\n",
    "```\n"
   ]
  },
  {
   "cell_type": "code",
   "execution_count": 1,
   "metadata": {},
   "outputs": [],
   "source": [
    "def procesar_frases(frases):\n",
    "    listas_de_frases = []\n",
    "    listas_cantidad_palabras = []\n",
    "    listas_cantidad_caracteres = []\n",
    "    \n",
    "    for i in range(0,len(frases)):\n",
    "        listas_de_frases.append([frases[i]])\n",
    "    \n",
    "    for i in range(0,len(listas_de_frases)):\n",
    "        listas_cantidad_palabras.append([len(frases[i].split())])\n",
    "    \n",
    "    for i in range(0,len(listas_de_frases)):\n",
    "        listas_cantidad_caracteres.append([len(frases[i])])\n",
    "    \n",
    "    \n",
    "    for i in range(0,len(listas_de_frases)):\n",
    "        print(f\"Frase: {listas_de_frases[i][0]} - Cantidad de palabras : {listas_cantidad_palabras[i][0]} - Cantidad de caracteres: {listas_cantidad_caracteres[i][0]}\")"
   ]
  },
  {
   "cell_type": "code",
   "execution_count": 2,
   "metadata": {},
   "outputs": [
    {
     "name": "stdout",
     "output_type": "stream",
     "text": [
      "Frase: Python es un lenguaje de programación - Cantidad de palabras : 6 - Cantidad de caracteres: 37\n",
      "Frase: Me gusta resolver problemas con código - Cantidad de palabras : 6 - Cantidad de caracteres: 38\n",
      "Frase: Las listas y los bucles son muy útiles - Cantidad de palabras : 8 - Cantidad de caracteres: 38\n"
     ]
    }
   ],
   "source": [
    "frases = [\n",
    "    \"Python es un lenguaje de programación\",\n",
    "    \"Me gusta resolver problemas con código\",\n",
    "    \"Las listas y los bucles son muy útiles\"\n",
    "]\n",
    "procesar_frases(frases)"
   ]
  },
  {
   "cell_type": "markdown",
   "metadata": {},
   "source": [
    "## Ejercicio 2\n",
    "\n",
    "Escribe una función en Python que encuentre los valores de `a`, `b`, y `c` para que la función cuadrática `f(x) = aX^2 + bX + c` pase exactamente por los siguientes puntos:\n",
    "\n",
    "| x  | y  |\n",
    "|---:|---:|\n",
    "|  0 |  0 |\n",
    "|  1 |  8 |\n",
    "|  2 | 12 |\n",
    "|  3 | 12 |\n",
    "|  5 |  0 |\n",
    "\n",
    "### Requisitos:\n",
    "- La función debe explorar posibles valores de `a`, `b`, y `c` utilizando un método de prueba y error.\n",
    "- Debe devolver los valores que hagan que la diferencia entre la función `f(x)` y los valores medidos `y` sea exactamente cero para cada punto.\n",
    "\n",
    "> **Pista**: Los valores de `a`, `b`, y `c` son números pequeños."
   ]
  },
  {
   "cell_type": "code",
   "execution_count": 4,
   "metadata": {},
   "outputs": [],
   "source": [
    "def busquedaDeCoeficientes():\n",
    "\n",
    "    listaX = [0,1,2,3,5]\n",
    "    listaY = [0,8,12,12,0]\n",
    "    listaNumeros = [-2, -1, 0,  1, 2, 3, 4, 5, 6, 7 ,8 ,9, 10]\n",
    "    apuntador1 = 0\n",
    "    apuntador2 = 1\n",
    "    apuntador3 = 3\n",
    "    valor1 = 0\n",
    "    valor2 = 0\n",
    "    valor3 = 0\n",
    "    objetivo = len(listaY)\n",
    "    contador_coincidencias = 0\n",
    "\n",
    "    while apuntador1 < len(listaNumeros):\n",
    "        valor1 = listaNumeros[apuntador1]\n",
    "        valor2 = listaNumeros[apuntador2]\n",
    "        valor3 = listaNumeros[apuntador3]\n",
    "\n",
    "        ##Combinacion 1\n",
    "        for i in range(0,len(listaX)):\n",
    "            if(valor1 * listaX[i] ** 2 + valor2 * listaX[i] + valor3 == listaY[i]):\n",
    "                contador_coincidencias += 1\n",
    "\n",
    "        if(contador_coincidencias == objetivo):\n",
    "           return (valor1, valor2, valor3)\n",
    "        else:\n",
    "            contador_coincidencias = 0\n",
    "            \n",
    "\n",
    "\n",
    "        ##Combinacion 2\n",
    "        for i in range(0,len(listaX)):\n",
    "            if(valor1 * listaX[i] ** 2 + valor3 * listaX[i] + valor2 == listaY[i]):\n",
    "                contador_coincidencias += 1\n",
    "\n",
    "        if(contador_coincidencias == objetivo):\n",
    "             return (valor1, valor3, valor2)\n",
    "        else:\n",
    "            contador_coincidencias = 0\n",
    "\n",
    "\n",
    "\n",
    "        ##Combinacion 3\n",
    "        for i in range(0,len(listaX)):\n",
    "            if(valor2 * listaX[i] ** 2 + valor1 * listaX[i] + valor3 == listaY[i]):\n",
    "                contador_coincidencias += 1\n",
    "\n",
    "        if(contador_coincidencias == objetivo):\n",
    "            return (valor2, valor1, valor3)\n",
    "            \n",
    "        else:\n",
    "            contador_coincidencias = 0\n",
    "\n",
    "\n",
    "\n",
    "        ##Combinacion 4\n",
    "        for i in range(0,len(listaX)):\n",
    "            if(valor2 * listaX[i] ** 2 + valor3 * listaX[i] + valor1 == listaY[i]):\n",
    "                contador_coincidencias += 1\n",
    "\n",
    "        if(contador_coincidencias == objetivo):\n",
    "            return (valor2, valor3, valor1)\n",
    "        else:\n",
    "            contador_coincidencias = 0\n",
    "\n",
    "\n",
    "\n",
    "        ##Combinacion 5\n",
    "        for i in range(0,len(listaX)):\n",
    "            if(valor3 * listaX[i] ** 2 + valor2 * listaX[i] + valor1 == listaY[i]):\n",
    "                contador_coincidencias += 1\n",
    "\n",
    "        if(contador_coincidencias == objetivo):\n",
    "            return (valor3, valor2, valor1)\n",
    "        else:\n",
    "            contador_coincidencias = 0\n",
    "\n",
    "\n",
    "\n",
    "        ##Combinacion 6\n",
    "        for i in range(0,len(listaX)):\n",
    "            if(valor3 * listaX[i] ** 2 + valor1 * listaX[i] + valor2 == listaY[i]):\n",
    "                contador_coincidencias += 1\n",
    "\n",
    "        if(contador_coincidencias == objetivo):\n",
    "             return (valor3, valor1, valor2)\n",
    "        else:\n",
    "            contador_coincidencias = 0\n",
    "\n",
    "        #Posicionamiento de apuntadores segun el comportamiento del apunrador3\n",
    "\n",
    "        if(apuntador3 < len(listaNumeros) - 1):\n",
    "            apuntador3 += 1\n",
    "        else:\n",
    "            if (apuntador2 < len(listaNumeros) - 2):\n",
    "                apuntador2 += 1\n",
    "                apuntador3 = apuntador2 + 1\n",
    "            else:\n",
    "                if(apuntador1 < len(listaNumeros) - 3):\n",
    "                    apuntador1 += 1\n",
    "                    apuntador2 = apuntador1 + 1\n",
    "                    apuntador3 = apuntador2 + 1\n",
    "                else:\n",
    "                    apuntador1 += 1\n"
   ]
  },
  {
   "cell_type": "code",
   "execution_count": 6,
   "metadata": {},
   "outputs": [
    {
     "name": "stdout",
     "output_type": "stream",
     "text": [
      "(-2, 10, 0)\n"
     ]
    }
   ],
   "source": [
    "print(busquedaDeCoeficientes());"
   ]
  }
 ],
 "metadata": {
  "kernelspec": {
   "display_name": "Python 3",
   "language": "python",
   "name": "python3"
  },
  "language_info": {
   "codemirror_mode": {
    "name": "ipython",
    "version": 3
   },
   "file_extension": ".py",
   "mimetype": "text/x-python",
   "name": "python",
   "nbconvert_exporter": "python",
   "pygments_lexer": "ipython3",
   "version": "3.12.5"
  }
 },
 "nbformat": 4,
 "nbformat_minor": 2
}
