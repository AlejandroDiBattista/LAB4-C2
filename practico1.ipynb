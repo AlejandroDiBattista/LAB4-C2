{
 "cells": [
  {
   "cell_type": "code",
   "execution_count": 51,
   "metadata": {},
   "outputs": [
    {
     "name": "stdout",
     "output_type": "stream",
     "text": [
      "Frase: \"MI nombre es Ramiro\" tiene 4 palabras y 16 caracteres.\n",
      "Frase: \"tengo 22 años\" tiene 3 palabras y 11 caracteres.\n",
      "Frase: \"estudio la carrera Tectinactura Universitaria en Programacion\" tiene 7 palabras y 55 caracteres.\n"
     ]
    }
   ],
   "source": [
    "\n",
    "#TRABAJO PRACTICO 1\n",
    "#1 EJERCICIO\n",
    "\n",
    "\n",
    "def procesar_frases (lista_frases):\n",
    "    for frase in lista_frases:\n",
    "        palabras = frase.split()\n",
    "        \n",
    "        print(f'Frase: \"{frase}\" tiene {len(palabras)} palabras y {len(frase.replace(\" \", \"\"))} caracteres.')\n",
    "    return \n",
    "\n",
    "\n",
    "frases = [\"MI nombre es Ramiro\", \"tengo 22 años\", \"estudio la carrera Tectinactura Universitaria en Programacion\"]\n",
    "\n",
    "procesar_frases(frases)\n"
   ]
  },
  {
   "cell_type": "code",
   "execution_count": 48,
   "metadata": {},
   "outputs": [
    {
     "name": "stdout",
     "output_type": "stream",
     "text": [
      "No se encontraron coeficientes adecuados.\n"
     ]
    }
   ],
   "source": [
    "\n",
    "#TRABAJO PRACTICO 1\n",
    "#2 EJERCICIO\n",
    "\n",
    "import numpy as np\n",
    "\n",
    "# Puntos dados\n",
    "points = [\n",
    "    (0, 0),\n",
    "    (1, 8),\n",
    "    (2, 12),\n",
    "    (3, 12),\n",
    "    (5, 0)\n",
    "]\n",
    "\n",
    "# Función que evalúa la cuadrática en un punto dado\n",
    "def evaluate_quadratic(a, b, c, x):\n",
    "    return a * x**2 + b * x + c\n",
    "\n",
    "# Función para encontrar los valores de a, b y c\n",
    "def find_quadratic_coefficients(points):\n",
    "    # Rango de valores a probar\n",
    "    possible_values = np.arange(-5, 5, 0.1)  # Valores pequeños en el rango de -5 a 5\n",
    "    \n",
    "    for a in possible_values:\n",
    "        for b in possible_values:\n",
    "            for c in possible_values:\n",
    "                all_match = True\n",
    "                for x, y in points:\n",
    "                    if not np.isclose(evaluate_quadratic(a, b, c, x), y, atol=0.1):  # Permite un pequeño margen de error\n",
    "                        all_match = False\n",
    "                        break\n",
    "                if all_match:\n",
    "                    return a, b, c\n",
    "    return None, None, None\n",
    "\n",
    "# Buscar los coeficientes\n",
    "a, b, c = find_quadratic_coefficients(points)\n",
    "if a is not None and b is not None and c is not None:\n",
    "    print(f\"Los coeficientes son: a = {a}, b = {b}, c = {c}\")\n",
    "else:\n",
    "    print(\"No se encontraron coeficientes adecuados.\")\n",
    "\n",
    "# Comprobación de los resultados\n",
    "if a is not None and b is not None and c is not None:\n",
    "    for x_i, y_i in points:\n",
    "        y_pred = evaluate_quadratic(a, b, c, x_i)\n",
    "        print(f\"f({x_i}) = {y_pred} (esperado: {y_i})\")\n",
    "\n",
    "\n",
    "\n",
    "\n"
   ]
  }
 ],
 "metadata": {
  "kernelspec": {
   "display_name": ".venv",
   "language": "python",
   "name": "python3"
  },
  "language_info": {
   "codemirror_mode": {
    "name": "ipython",
    "version": 3
   },
   "file_extension": ".py",
   "mimetype": "text/x-python",
   "name": "python",
   "nbconvert_exporter": "python",
   "pygments_lexer": "ipython3",
   "version": "3.12.5"
  }
 },
 "nbformat": 4,
 "nbformat_minor": 2
}
